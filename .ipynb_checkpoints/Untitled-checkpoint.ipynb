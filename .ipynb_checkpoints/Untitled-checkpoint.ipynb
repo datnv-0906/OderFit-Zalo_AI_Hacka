{
 "cells": [
  {
   "cell_type": "code",
   "execution_count": 1,
   "metadata": {},
   "outputs": [],
   "source": [
    "import json\n",
    "import cv2\n",
    "import matplotlib.pyplot as plt\n",
    "import numpy as np\n",
    "import xml.etree.cElementTree as ET\n",
    "import xml\n",
    "import os"
   ]
  },
  {
   "cell_type": "code",
   "execution_count": 2,
   "metadata": {},
   "outputs": [],
   "source": [
    "base_dir = '/Users/apple/Documents/Git/OderFit-Zalo_AI_Hacka/'\n",
    "image_path = '/Users/apple/Documents/Git/OderFit-Zalo_AI_Hacka/zai2019_hackaton_train/images/train/'\n",
    "annotation_path = '/Users/apple/Documents/Git/OderFit-Zalo_AI_Hacka/zai2019_hackaton_train/annotations/ninedash_keypoints_train.json'"
   ]
  },
  {
   "cell_type": "code",
   "execution_count": 3,
   "metadata": {},
   "outputs": [],
   "source": [
    "with open(annotation_path) as json_file:\n",
    "    data = json.load(json_file)\n",
    "    annotations = data['annotations']\n",
    "    annotations = np.array(annotations)\n",
    "    images = data['images']\n",
    "    images = np.array(images)        "
   ]
  },
  {
   "cell_type": "code",
   "execution_count": 4,
   "metadata": {},
   "outputs": [],
   "source": [
    "def get_anno(img_id):\n",
    "    anno = []\n",
    "    for ann in annotations:\n",
    "        if img_id == ann['image_id']:\n",
    "            anno.append(ann)\n",
    "        \n",
    "    return anno"
   ]
  },
  {
   "cell_type": "code",
   "execution_count": 5,
   "metadata": {},
   "outputs": [
    {
     "data": {
      "text/plain": [
       "array([{'file_name': '000.jpg', 'height': 796, 'id': 0, 'license': 1, 'width': 1000},\n",
       "       {'file_name': '001.jpg', 'height': 350, 'id': 1, 'license': 1, 'width': 466},\n",
       "       {'file_name': '002.jpg', 'height': 473, 'id': 2, 'license': 1, 'width': 622},\n",
       "       ...,\n",
       "       {'file_name': '2597.jpg', 'height': 720, 'id': 2597, 'license': 1, 'width': 1280},\n",
       "       {'file_name': '2598.jpg', 'height': 755, 'id': 2598, 'license': 1, 'width': 700},\n",
       "       {'file_name': '2599.jpg', 'height': 745, 'id': 2599, 'license': 1, 'width': 2048}],\n",
       "      dtype=object)"
      ]
     },
     "execution_count": 5,
     "metadata": {},
     "output_type": "execute_result"
    }
   ],
   "source": [
    "images"
   ]
  },
  {
   "cell_type": "code",
   "execution_count": 18,
   "metadata": {},
   "outputs": [],
   "source": [
    "def get_img_infor():\n",
    "    count = 0\n",
    "    data_train = []\n",
    "    \n",
    "    for img in images:\n",
    "#         count += 1\n",
    "        file_name = img['file_name']\n",
    "        img_id = img['id']\n",
    "        width = img['width']\n",
    "        height = img['height']\n",
    "#         img_array = np.array(cv2.imread(image_path+file_name))        \n",
    "        annos = get_anno(img_id)\n",
    "        bboxes = []\n",
    "        \n",
    "        for anno in annos:\n",
    "            bbox = anno['bbox']\n",
    "            (x, y, w, h) = bbox\n",
    "            bboxes.append(bbox)\n",
    "            \n",
    "        data_train.append({'img_path': image_path+file_name, 'bboxes': bboxes, 'height': height, 'width': width})\n",
    "        \n",
    "    return data_train\n",
    "        \n",
    "#             cv2.rectangle(img_array, (x, y), (x+w, y+h), (0, 255, 0), 2)\n",
    "#             plt.imshow(img_array)\n",
    "        \n",
    "#         if count == 4:\n",
    "#             break\n",
    "#     return anno"
   ]
  },
  {
   "cell_type": "code",
   "execution_count": 19,
   "metadata": {},
   "outputs": [
    {
     "name": "stdout",
     "output_type": "stream",
     "text": [
      "{'bboxes': [[388, 130, 447, 599]],\n",
      " 'height': 796,\n",
      " 'img_path': '/Users/apple/Documents/Git/OderFit-Zalo_AI_Hacka/zai2019_hackaton_train/images/train/000.jpg',\n",
      " 'width': 1000}\n"
     ]
    }
   ],
   "source": [
    "from pprint import pprint\n",
    "\n",
    "data_train = get_img_infor()  \n",
    "pprint(data_train[0])"
   ]
  },
  {
   "cell_type": "code",
   "execution_count": 8,
   "metadata": {},
   "outputs": [],
   "source": [
    "# get_img_infor()"
   ]
  },
  {
   "cell_type": "code",
   "execution_count": 99,
   "metadata": {},
   "outputs": [],
   "source": [
    "XML_TRAIN_FD = \"/Users/apple/Documents/Git/OderFit-Zalo_AI_Hacka/xmls/\"\n",
    "TRAIN_FD = image_path\n",
    "\n",
    "def gen_xml_files(img_fp, labels, save_xml_fd=XML_TRAIN_FD):\n",
    "    img_fn = img_fp.split(\"/\")[-1].split(\".\")[0]\n",
    "    img = cv2.imread(img_fp)[:, :, ::-1]\n",
    "\n",
    "#     try:\n",
    "#         labels = np.array(labels.split(' ')).reshape(-1, 5)\n",
    "#     except AttributeError:\n",
    "#         return None\n",
    "\n",
    "    root = ET.Element(\"annotation\")\n",
    "    ET.SubElement(root, \"folder\").text = TRAIN_FD\n",
    "    ET.SubElement(root, \"filename\").text = img_fn + \".jpg\"\n",
    "    ET.SubElement(root, \"path\").text = os.path.join(TRAIN_FD, img_fn) + \".jpg\"\n",
    "\n",
    "    source = ET.SubElement(root, \"source\")\n",
    "    ET.SubElement(source, \"database\").text = \"Unknown\"\n",
    "\n",
    "    size = ET.SubElement(root, \"size\")\n",
    "    height, width, depth = img.shape\n",
    "    ET.SubElement(size, \"width\").text = str(width)\n",
    "    ET.SubElement(size, \"height\").text = str(height)\n",
    "    ET.SubElement(size, \"depth\").text = str(depth)\n",
    "\n",
    "    ET.SubElement(root, \"segmented\").text = \"0\"\n",
    "\n",
    "    for x, y, w, h in labels:\n",
    "        xmin, ymin, w, h = int(x), int(y), int(w), int(h)\n",
    "        xmax = xmin + w\n",
    "        ymax = ymin + h\n",
    "\n",
    "        obj = ET.SubElement(root, \"object\")\n",
    "        ET.SubElement(obj, \"name\").text = \"Nine Dash Line\"\n",
    "        ET.SubElement(obj, \"pose\").text = 'Unspecified'\n",
    "        ET.SubElement(obj, \"truncated\").text = '0'\n",
    "        ET.SubElement(obj, \"difficult\").text = '0'\n",
    "\n",
    "        bbox = ET.SubElement(obj, \"bndbox\")\n",
    "        ET.SubElement(bbox, \"xmin\").text = str(xmin)\n",
    "        ET.SubElement(bbox, \"ymin\").text = str(ymin)\n",
    "        ET.SubElement(bbox, \"xmax\").text = str(xmax)\n",
    "        ET.SubElement(bbox, \"ymax\").text = str(ymax)\n",
    "\n",
    "    xml_str = ET.tostring(root).decode(\"utf-8\")\n",
    "    xml_indent = xml.dom.minidom.parseString(xml_str).toprettyxml(indent=\"\\t\")\n",
    "    new_fn = \"{}.xml\".format(img_fn+'.jpg')\n",
    "    new_fn = os.path.join(save_xml_fd, new_fn)\n",
    "    with open(new_fn, \"w\") as f:\n",
    "        f.write(xml_indent)"
   ]
  },
  {
   "cell_type": "code",
   "execution_count": 100,
   "metadata": {},
   "outputs": [],
   "source": [
    "# for dt in data_train:\n",
    "# #     print('{}---{}'.format(dt['img_path'], dt['bboxes']))\n",
    "#     gen_xml_files(dt['img_path'], dt['bboxes'])"
   ]
  },
  {
   "cell_type": "code",
   "execution_count": 101,
   "metadata": {},
   "outputs": [],
   "source": [
    "import imutils"
   ]
  },
  {
   "cell_type": "code",
   "execution_count": 112,
   "metadata": {},
   "outputs": [],
   "source": [
    "class DataPreprocess:\n",
    "    def __init__(self, width, height, inter=cv2.INTER_AREA):\n",
    "        self.width = width\n",
    "        self.height = height\n",
    "        self.inter = inter\n",
    "        \n",
    "    def preprocess(self, image, bboxes):\n",
    "        (h, w) = image.shape[:2]\n",
    "        bboxes = np.array(bboxes)\n",
    "#         bboxes = [np.array(bbox) for bbox in bboxes]\n",
    "        \n",
    "        if w > h:\n",
    "            ratio = float(w/self.width)\n",
    "            image = imutils.resize(image, width=self.width)\n",
    "        else:\n",
    "            ratio = float(h/self.height)\n",
    "            image = imutils.resize(image, height=self.height)\n",
    "        \n",
    "        padw = int((self.width - image.shape[1]) / 2.0)\n",
    "        padh = int((self.height - image.shape[0]) / 2.0)\n",
    "#         print(bboxes)\n",
    "        bboxes = bboxes / ratio\n",
    "#         print(bboxes, padw, padh)\n",
    "        \n",
    "        if padh > 0:\n",
    "            bboxes = [[bbox[0], bbox[1] + padh, bbox[2], bbox[3] + padh] for bbox in bboxes]\n",
    "        else:\n",
    "            bboxes = [[bbox[0] + padw, bbox[1], bbox[2] + padw, bbox[3]] for bbox in bboxes]\n",
    "        \n",
    "#         print(bboxes)\n",
    "        \n",
    "        image = cv2.copyMakeBorder(image, padh, padh, padw, padw, cv2.BORDER_REPLICATE)\n",
    "        image = cv2.resize(image, (self.width, self.height))\n",
    "            \n",
    "        return image, ratio, bboxes"
   ]
  },
  {
   "cell_type": "code",
   "execution_count": 113,
   "metadata": {},
   "outputs": [],
   "source": [
    "new_train_fol = '/Users/apple/Documents/Git/OderFit-Zalo_AI_Hacka/zai2019_hackaton_train/images2/'\n",
    "\n",
    "if not os.path.exists(new_train_fol):\n",
    "    os.mkdir(new_train_fol)"
   ]
  },
  {
   "cell_type": "code",
   "execution_count": 114,
   "metadata": {},
   "outputs": [
    {
     "name": "stdout",
     "output_type": "stream",
     "text": [
      "[[248.32, 148.2, 286.08, 448.36]]\n",
      "[[238.96995708154506, 151.41630901287553, 287.0386266094421, 445.32188841201713]]\n",
      "[[252.09003215434083, 164.45980707395498, 285.016077170418, 427.86816720257235]]\n",
      "[[61.333333333333336, 143.26666666666665, 487.46666666666664, 494.73333333333335]]\n",
      "[[271.6734693877551, 100.9795918367347, 361.7959183673469, 537.2244897959183]]\n",
      "[[232.39310784939377, 132.18315252074026, 216.87300574345886, 507.932992980217]]\n",
      "[[23.333333333333336, 338.1666666666667, 90.83333333333334, 298.1666666666667]]\n",
      "[[176.80600461893764, 54.688221709006925, 382.7490377213241, 549.3456505003849]]\n",
      "[[74.24, 63.6, 345.6, 512.88]]\n",
      "[[180.42211055276383, 173.4824120603015, 209.68844221105527, 400.85929648241205]]\n",
      "[[522.700964630225, 332.3665594855305, 111.12540192926045, 287.09324758842445]]\n",
      "[[261.3504823151125, 161.37299035369773, 271.63987138263667, 430.95498392282957]]\n",
      "[[192.66666666666666, 140.66666666666666, 326.3333333333333, 499.6666666666667]]\n",
      "[[213.125, 292.375, 57.5, 241.125]]\n",
      "[[197.8181818181818, 135.15151515151516, 288.0, 499.75757575757575]]\n",
      "[[138.7169811320755, 129.20754716981133, 432.1509433962264, 485.4339622641509]]\n",
      "[[167.22986247544205, 80.86836935166994, 451.3948919449902, 557.4106090373281]]\n",
      "[[320.9756097560976, 142.0, 234.14634146341464, 412.2439024390244]]\n",
      "[[411.42857142857144, 328.0285714285714, 153.6, 264.02857142857147]]\n",
      "[[267.524115755627, 163.43086816720256, 259.2926045016077, 431.98392282958196]]\n",
      "[[368.45714285714286, 346.8857142857143, 147.2, 292.02857142857147]]\n",
      "[[291.2, 335.8, 95.36, 235.32]]\n",
      "[[71.2967032967033, 0.0, 447.0580847723705, 565.651491365777]]\n",
      "[[367.60828625235405, 164.54237288135593, 241.05461393596985, 471.8870056497175]]\n",
      "[[436.02339181286544, 272.1345029239766, 130.99415204678363, 330.14619883040933]]\n",
      "[[192.0, 90.32727272727273, 252.5090909090909, 542.9818181818182]]\n",
      "[[204.0, 78.0, 401.2, 517.2]]\n",
      "[[252.28205128205127, 247.4161735700197, 288.258382642998, 268.2445759368836]]\n",
      "[[249.6, 123.12, 300.8, 514.8]]\n",
      "[[182.71824480369514, 26.605080831408774, 372.4026173979984, 567.0823710546574]]\n",
      "[[130.4505978602895, 179.8363750786658, 372.9175582127124, 389.27627438640656]]\n",
      "[[243.47826086956522, 125.34782608695652, 290.7826086956522, 513.5217391304348]]\n",
      "[[180.625, 233.125, 146.25, 253.125]]\n",
      "[[156.25, 140.625, 248.125, 499.375]]\n",
      "[[204.52173913043478, 129.69565217391303, 225.3913043478261, 492.82608695652175]]\n",
      "[[271.36, 163.24, 253.44, 438.44]]\n",
      "[[172.30769230769232, 86.58974358974359, 332.3076923076923, 490.6923076923077]]\n",
      "[[180.48, 185.88, 221.44, 427.8]]\n",
      "[[83.2601880877743, 210.4075235109718, 156.48902821316616, 299.68652037617557], [401.2539184952978, 160.25078369905958, 169.52978056426332, 349.8432601880878]]\n",
      "[[258.0, 140.5, 283.5, 499.5]]\n",
      "[[65.04918032786885, 177.21311475409834, 396.59016393442624, 460.4918032786885]]\n",
      "[[231.6679841897233, 34.1501976284585, 382.1818181818182, 509.72332015810275]]\n",
      "[[463.36, 217.48, 151.04, 417.8]]\n",
      "[[192.18390804597703, 175.02298850574712, 175.632183908046, 428.816091954023]]\n",
      "[[373.9428571428571, 354.2, 128.9142857142857, 284.7142857142857]]\n",
      "[[88.21114369501467, 420.27370478983386, 127.62463343108504, 218.82697947214075]]\n",
      "[[234.60410557184753, 135.24633431085044, 404.77028347996094, 500.603128054741]]\n",
      "[[454.7878787878788, 315.1212121212121, 146.42424242424244, 309.3030303030303]]\n",
      "[[147.83116883116884, 81.03896103896103, 444.97402597402595, 550.6493506493506]]\n",
      "[[186.4, 114.8, 428.8, 523.6]]\n",
      "[[116.5553772070626, 71.91011235955057, 522.3338683788122, 563.9807383627609]]\n",
      "[[164.7837837837838, 43.24324324324324, 446.72972972972974, 524.1081081081081]]\n",
      "[[235.73333333333332, 157.2, 281.6, 482.53333333333336]]\n",
      "[[265.22522522522524, 119.25225225225225, 307.7477477477478, 520.6936936936937]]\n",
      "[[231.46666666666667, 169.06666666666666, 168.53333333333333, 448.53333333333336]]\n",
      "[[468.948948948949, 449.96996996997, 40.36036036036037, 188.5885885885886], [549.6696696696697, 429.78978978978984, 87.44744744744746, 206.84684684684686]]\n",
      "[[56.59163987138263, 132.08681672025725, 398.19935691318324, 505.5916398713826]]\n",
      "[[81.32942326490713, 313.2942326490714, 133.25513196480938, 313.91984359726297]]\n",
      "[[240.35555555555555, 137.95555555555555, 288.7111111111111, 457.9555555555556]]\n",
      "[[157.5, 147.5, 258.75, 491.875]]\n",
      "[[219.84, 76.72, 275.52, 379.12]]\n",
      "[[416.2283464566929, 335.1181102362205, 156.70078740157481, 209.13385826771653]]\n",
      "[[242.1875, 292.625, 26.25, 133.5625]]\n",
      "[[513.8461538461538, 396.4871794871795, 80.0, 175.97435897435898]]\n",
      "[[64.87096774193549, 43.354838709677416, 457.1290322580645, 538.8387096774194]]\n",
      "[[222.6086956521739, 186.73913043478262, 212.8695652173913, 405.17391304347825]]\n",
      "[[64.87096774193549, 49.54838709677419, 453.0, 538.8387096774194]]\n",
      "[[321.4436090225564, 139.88721804511277, 211.72932330827066, 468.0676691729323]]\n",
      "[[186.5142857142857, 221.37142857142857, 182.85714285714286, 396.9142857142857]]\n",
      "[[68.81720430107526, 139.3743890518084, 465.4545454545455, 499.7262952101662]]\n",
      "[[232.00810372771474, 52.90113452188006, 381.3760129659643, 439.805510534846]]\n",
      "[[168.47457627118644, 2.169491525423729, 446.1694915254237, 572.7457627118644]]\n",
      "[[163.58744394618833, 54.73991031390135, 390.31390134529147, 555.5470852017937]]\n",
      "[[446.87719298245617, 337.0, 112.28070175438596, 296.57894736842104]]\n",
      "[[276.0, 561.3333333333334, 168.0, 40.666666666666664]]\n",
      "[[328.8615384615385, 332.6769230769231, 89.6, 259.8153846153846]]\n",
      "[[267.6923076923077, 164.1025641025641, 259.4871794871795, 428.71794871794873]]\n",
      "[[212.69565217391303, 41.73913043478261, 408.74308300395256, 503.399209486166]]\n",
      "[[197.4297520661157, 129.05785123966942, 321.198347107438, 410.44628099173553]]\n",
      "[[67.14754098360656, 69.0, 358.8196721311475, 509.655737704918]]\n",
      "[[240.65040650406502, 220.65040650406502, 312.1951219512195, 417.0731707317073]]\n",
      "[[536.2919708029198, 297.1751824817518, 81.28467153284672, 285.02919708029196]]\n",
      "[[378.125, 187.75, 228.75, 450.25]]\n",
      "[[484.8, 341.2, 58.13333333333333, 273.4666666666667]]\n",
      "[[323.36842105263156, 137.0, 209.8045112781955, 472.8796992481203]]\n"
     ]
    },
    {
     "ename": "KeyboardInterrupt",
     "evalue": "",
     "output_type": "error",
     "traceback": [
      "\u001b[0;31m---------------------------------------------------------------------------\u001b[0m",
      "\u001b[0;31mKeyboardInterrupt\u001b[0m                         Traceback (most recent call last)",
      "\u001b[0;32m<ipython-input-114-550e871fada9>\u001b[0m in \u001b[0;36m<module>\u001b[0;34m\u001b[0m\n\u001b[1;32m      9\u001b[0m     \u001b[0mbboxes\u001b[0m \u001b[0;34m=\u001b[0m \u001b[0mdt\u001b[0m\u001b[0;34m[\u001b[0m\u001b[0;34m'bboxes'\u001b[0m\u001b[0;34m]\u001b[0m\u001b[0;34m\u001b[0m\u001b[0;34m\u001b[0m\u001b[0m\n\u001b[1;32m     10\u001b[0m \u001b[0;34m\u001b[0m\u001b[0m\n\u001b[0;32m---> 11\u001b[0;31m     \u001b[0mimage\u001b[0m \u001b[0;34m=\u001b[0m \u001b[0mcv2\u001b[0m\u001b[0;34m.\u001b[0m\u001b[0mimread\u001b[0m\u001b[0;34m(\u001b[0m\u001b[0mimage_path\u001b[0m\u001b[0;34m)\u001b[0m\u001b[0;34m\u001b[0m\u001b[0;34m\u001b[0m\u001b[0m\n\u001b[0m\u001b[1;32m     12\u001b[0m     \u001b[0mimage\u001b[0m\u001b[0;34m,\u001b[0m \u001b[0mratio\u001b[0m\u001b[0;34m,\u001b[0m \u001b[0mbboxes\u001b[0m \u001b[0;34m=\u001b[0m \u001b[0mdt_preprocess\u001b[0m\u001b[0;34m.\u001b[0m\u001b[0mpreprocess\u001b[0m\u001b[0;34m(\u001b[0m\u001b[0mimage\u001b[0m\u001b[0;34m,\u001b[0m \u001b[0mbboxes\u001b[0m\u001b[0;34m)\u001b[0m\u001b[0;34m\u001b[0m\u001b[0;34m\u001b[0m\u001b[0m\n\u001b[1;32m     13\u001b[0m \u001b[0;31m#     print(bboxes)\u001b[0m\u001b[0;34m\u001b[0m\u001b[0;34m\u001b[0m\u001b[0;34m\u001b[0m\u001b[0m\n",
      "\u001b[0;31mKeyboardInterrupt\u001b[0m: "
     ]
    }
   ],
   "source": [
    "constant_width = 640\n",
    "constant_height = 640\n",
    "dt_preprocess = DataPreprocess(constant_height, constant_width)\n",
    "new_data_train = []\n",
    "\n",
    "for dt in data_train:\n",
    "    image_path = dt['img_path']\n",
    "    img_fn = image_path.split(\"/\")[-1].split(\".\")[0]\n",
    "    bboxes = dt['bboxes']\n",
    "    \n",
    "    image = cv2.imread(image_path)\n",
    "    image, ratio, bboxes = dt_preprocess.preprocess(image, bboxes)\n",
    "#     print(bboxes)\n",
    "#     bboxes = [int(bbox * ratio) for bbox in bboxes]\n",
    "    new_img_path = new_train_fol + img_fn + '.jpg'\n",
    "    cv2.imwrite(new_img_path, image)\n",
    "    \n",
    "    new_data_train.append({'img_path': new_img_path, 'bboxes': bboxes, 'width': constant_width, 'height': constant_height})"
   ]
  },
  {
   "cell_type": "code",
   "execution_count": 105,
   "metadata": {},
   "outputs": [],
   "source": [
    "# test = new_data_train[0]\n",
    "# test\n",
    "# img_test = cv2.imread(test['img_path']) \n",
    "\n",
    "# cv2.rectangle(img_test, (248, 83+65), (248 + 286, 83 + 383 + 65), (0, 255, 0), 2)\n",
    "# plt.imshow(img_test)"
   ]
  },
  {
   "cell_type": "code",
   "execution_count": 108,
   "metadata": {},
   "outputs": [],
   "source": [
    "# new_data_train"
   ]
  },
  {
   "cell_type": "code",
   "execution_count": 106,
   "metadata": {},
   "outputs": [],
   "source": [
    "for new_dt in new_data_train:\n",
    "#   print('{}---{}'.format(dt['img_path'], dt['bboxes']))\n",
    "    gen_xml_files(new_dt['img_path'], new_dt['bboxes'])"
   ]
  },
  {
   "cell_type": "code",
   "execution_count": null,
   "metadata": {},
   "outputs": [],
   "source": []
  }
 ],
 "metadata": {
  "kernelspec": {
   "display_name": "Python 3",
   "language": "python",
   "name": "python3"
  },
  "language_info": {
   "codemirror_mode": {
    "name": "ipython",
    "version": 3
   },
   "file_extension": ".py",
   "mimetype": "text/x-python",
   "name": "python",
   "nbconvert_exporter": "python",
   "pygments_lexer": "ipython3",
   "version": "3.6.8"
  }
 },
 "nbformat": 4,
 "nbformat_minor": 2
}
